{
 "cells": [
  {
   "cell_type": "code",
   "execution_count": 1,
   "id": "9b6461fb",
   "metadata": {},
   "outputs": [],
   "source": [
    "%matplotlib inline\n",
    "import numpy as np\n",
    "import pandas as pd\n",
    "import matplotlib.pyplot as plt\n",
    "import seaborn as sns\n",
    "import os\n",
    "import random\n",
    "import cv2\n",
    "import imutils\n",
    "from sklearn.metrics import classification_report,confusion_matrix\n",
    "from sklearn import metrics\n",
    "from sklearn.preprocessing import LabelEncoder,LabelBinarizer\n",
    "from sklearn.model_selection import train_test_split\n",
    "from sklearn.ensemble import RandomForestClassifier,GradientBoostingClassifier,ExtraTreesClassifier\n",
    "from skimage import feature\n",
    "from keras.utils import to_categorical\n",
    "from imutils import build_montages,paths\n",
    "import warnings"
   ]
  },
  {
   "cell_type": "code",
   "execution_count": 2,
   "id": "3c12cc22",
   "metadata": {},
   "outputs": [],
   "source": [
    "sns.set()"
   ]
  },
  {
   "cell_type": "code",
   "execution_count": 3,
   "id": "a2a52613",
   "metadata": {},
   "outputs": [],
   "source": [
    "spiral_train_healthy = os.listdir('C:/Users/amirt/Desktop/Parkinson_Disease/dataset/spiral/training/healthy/')\n",
    "spiral_train_park = os.listdir('C:/Users/amirt/Desktop/Parkinson_Disease/dataset/spiral/training/parkinson/')\n",
    "\n",
    "fp_spiral_train_healthy = 'C:/Users/amirt/Desktop/Parkinson_Disease/dataset/spiral/training/healthy/'\n",
    "fp_spiral_train_park = 'C:/Users/amirt/Desktop/Parkinson_Disease/dataset/spiral/training/parkinson/'\n",
    "\n",
    "spiral_test_healthy = os.listdir('C:/Users/amirt/Desktop/Parkinson_Disease/dataset/spiral/testing/healthy/')\n",
    "spiral_test_park = os.listdir('C:/Users/amirt/Desktop/Parkinson_Disease/dataset/spiral/testing/parkinson/')\n",
    "\n",
    "fp_spiral_test_healthy = 'C:/Users/amirt/Desktop/Parkinson_Disease/dataset/spiral/testing/healthy/'\n",
    "fp_spiral_test_park = 'C:/Users/amirt/Desktop/Parkinson_Disease/dataset/spiral/testing/parkinson/'"
   ]
  },
  {
   "cell_type": "code",
   "execution_count": 4,
   "id": "4e9fd8c1",
   "metadata": {},
   "outputs": [],
   "source": [
    "def quantify_image(image):\n",
    "  features = feature.hog(image,orientations=9,\n",
    "                pixels_per_cell=(10,10),cells_per_block=(2,2),transform_sqrt=True,block_norm=\"L1\")\n",
    "\n",
    "  return features"
   ]
  },
  {
   "cell_type": "code",
   "execution_count": 5,
   "id": "f219da29",
   "metadata": {},
   "outputs": [],
   "source": [
    "trainX = []\n",
    "testX = []\n",
    "outputs = []\n",
    "trainY = []\n",
    "testY = []\n",
    "\n",
    "for i in spiral_train_healthy:\n",
    "  image = cv2.imread(fp_spiral_train_healthy+i)\n",
    "  image = cv2.cvtColor(image , cv2.COLOR_BGR2GRAY)\n",
    "  image = cv2.resize(image , (200,200))\n",
    "  image =cv2.threshold(image, 0, 255,cv2.THRESH_BINARY_INV | cv2.THRESH_OTSU)[1]\n",
    "  features = quantify_image(image)\n",
    "  trainX.append(features)\n",
    "  trainY.append('healthy')\n",
    "\n",
    "for i in spiral_train_park:\n",
    "  image = cv2.imread(fp_spiral_train_park+i)\n",
    "  image = cv2.cvtColor(image , cv2.COLOR_BGR2GRAY)\n",
    "  image = cv2.resize(image , (200,200))\n",
    "  image = cv2.threshold(image ,0,255,cv2.THRESH_BINARY_INV | cv2.THRESH_OTSU)[1]\n",
    "  features = quantify_image(image)\n",
    "  trainX.append(features)\n",
    "  trainY.append('parkinson')\n",
    "\n",
    "for i in spiral_test_healthy:\n",
    "  image = cv2.imread(fp_spiral_test_healthy+i)\n",
    "  outputs.append(image)\n",
    "  image = cv2.cvtColor(image , cv2.COLOR_BGR2GRAY)\n",
    "  image = cv2.resize(image , (200,200))\n",
    "  image = cv2.threshold(image ,0,255,cv2.THRESH_BINARY_INV | cv2.THRESH_OTSU)[1]\n",
    "  features = quantify_image(image)\n",
    "  testX.append(features)\n",
    "  testY.append('healthy')\n",
    "\n",
    "for i in spiral_test_park:\n",
    "  image = cv2.imread(fp_spiral_test_park+i)\n",
    "  outputs.append(image)\n",
    "  image = cv2.cvtColor(image , cv2.COLOR_BGR2GRAY)\n",
    "  image = cv2.resize(image , (200,200))\n",
    "  image = cv2.threshold(image ,0,255,cv2.THRESH_BINARY_INV | cv2.THRESH_OTSU)[1]\n",
    "  features = quantify_image(image)\n",
    "  testX.append(features)\n",
    "  testY.append('parkinson')"
   ]
  },
  {
   "cell_type": "code",
   "execution_count": 6,
   "id": "f89b922c",
   "metadata": {},
   "outputs": [],
   "source": [
    "trainX = np.array(trainX)\n",
    "testX = np.array(testX)\n",
    "trainY = np.array(trainY)\n",
    "testY = np.array(testY)"
   ]
  },
  {
   "cell_type": "code",
   "execution_count": 7,
   "id": "5696c4a1",
   "metadata": {},
   "outputs": [
    {
     "data": {
      "text/plain": [
       "array([[0., 0., 0., ..., 0., 0., 0.],\n",
       "       [0., 0., 0., ..., 0., 0., 0.],\n",
       "       [0., 0., 0., ..., 0., 0., 0.],\n",
       "       ...,\n",
       "       [0., 0., 0., ..., 0., 0., 0.],\n",
       "       [0., 0., 0., ..., 0., 0., 0.],\n",
       "       [0., 0., 0., ..., 0., 0., 0.]])"
      ]
     },
     "execution_count": 7,
     "metadata": {},
     "output_type": "execute_result"
    }
   ],
   "source": [
    "trainX"
   ]
  },
  {
   "cell_type": "code",
   "execution_count": 8,
   "id": "f8482025",
   "metadata": {},
   "outputs": [
    {
     "data": {
      "text/plain": [
       "array([[0., 0., 0., ..., 0., 0., 0.],\n",
       "       [0., 0., 0., ..., 0., 0., 0.],\n",
       "       [0., 0., 0., ..., 0., 0., 0.],\n",
       "       ...,\n",
       "       [0., 0., 0., ..., 0., 0., 0.],\n",
       "       [0., 0., 0., ..., 0., 0., 0.],\n",
       "       [0., 0., 0., ..., 0., 0., 0.]])"
      ]
     },
     "execution_count": 8,
     "metadata": {},
     "output_type": "execute_result"
    }
   ],
   "source": [
    "testX"
   ]
  },
  {
   "cell_type": "code",
   "execution_count": 9,
   "id": "f1fe8b5e",
   "metadata": {},
   "outputs": [
    {
     "data": {
      "text/plain": [
       "array(['healthy', 'healthy', 'healthy', 'healthy', 'healthy', 'healthy',\n",
       "       'healthy', 'healthy', 'healthy', 'healthy', 'healthy', 'healthy',\n",
       "       'healthy', 'healthy', 'healthy', 'healthy', 'healthy', 'healthy',\n",
       "       'healthy', 'healthy', 'healthy', 'healthy', 'healthy', 'healthy',\n",
       "       'healthy', 'healthy', 'healthy', 'healthy', 'healthy', 'healthy',\n",
       "       'healthy', 'healthy', 'healthy', 'healthy', 'healthy', 'healthy',\n",
       "       'parkinson', 'parkinson', 'parkinson', 'parkinson', 'parkinson',\n",
       "       'parkinson', 'parkinson', 'parkinson', 'parkinson', 'parkinson',\n",
       "       'parkinson', 'parkinson', 'parkinson', 'parkinson', 'parkinson',\n",
       "       'parkinson', 'parkinson', 'parkinson', 'parkinson', 'parkinson',\n",
       "       'parkinson', 'parkinson', 'parkinson', 'parkinson', 'parkinson',\n",
       "       'parkinson', 'parkinson', 'parkinson', 'parkinson', 'parkinson',\n",
       "       'parkinson', 'parkinson', 'parkinson', 'parkinson', 'parkinson',\n",
       "       'parkinson'], dtype='<U9')"
      ]
     },
     "execution_count": 9,
     "metadata": {},
     "output_type": "execute_result"
    }
   ],
   "source": [
    "trainY"
   ]
  },
  {
   "cell_type": "code",
   "execution_count": 10,
   "id": "d432fb2f",
   "metadata": {},
   "outputs": [
    {
     "data": {
      "text/plain": [
       "array(['healthy', 'healthy', 'healthy', 'healthy', 'healthy', 'healthy',\n",
       "       'healthy', 'healthy', 'healthy', 'healthy', 'healthy', 'healthy',\n",
       "       'healthy', 'healthy', 'healthy', 'parkinson', 'parkinson',\n",
       "       'parkinson', 'parkinson', 'parkinson', 'parkinson', 'parkinson',\n",
       "       'parkinson', 'parkinson', 'parkinson', 'parkinson', 'parkinson',\n",
       "       'parkinson', 'parkinson', 'parkinson'], dtype='<U9')"
      ]
     },
     "execution_count": 10,
     "metadata": {},
     "output_type": "execute_result"
    }
   ],
   "source": [
    "testY"
   ]
  },
  {
   "cell_type": "code",
   "execution_count": 11,
   "id": "000bc9c1",
   "metadata": {},
   "outputs": [],
   "source": [
    "le = LabelEncoder()\n",
    "trainY = le.fit_transform(trainY)\n",
    "testY = le.transform(testY)"
   ]
  },
  {
   "cell_type": "code",
   "execution_count": 12,
   "id": "7e4afc3c",
   "metadata": {},
   "outputs": [
    {
     "data": {
      "text/plain": [
       "array([0, 0, 0, 0, 0, 0, 0, 0, 0, 0, 0, 0, 0, 0, 0, 0, 0, 0, 0, 0, 0, 0,\n",
       "       0, 0, 0, 0, 0, 0, 0, 0, 0, 0, 0, 0, 0, 0, 1, 1, 1, 1, 1, 1, 1, 1,\n",
       "       1, 1, 1, 1, 1, 1, 1, 1, 1, 1, 1, 1, 1, 1, 1, 1, 1, 1, 1, 1, 1, 1,\n",
       "       1, 1, 1, 1, 1, 1], dtype=int64)"
      ]
     },
     "execution_count": 12,
     "metadata": {},
     "output_type": "execute_result"
    }
   ],
   "source": [
    "trainY"
   ]
  },
  {
   "cell_type": "code",
   "execution_count": 13,
   "id": "4a1e1629",
   "metadata": {},
   "outputs": [
    {
     "data": {
      "text/plain": [
       "array([0, 0, 0, 0, 0, 0, 0, 0, 0, 0, 0, 0, 0, 0, 0, 1, 1, 1, 1, 1, 1, 1,\n",
       "       1, 1, 1, 1, 1, 1, 1, 1])"
      ]
     },
     "execution_count": 13,
     "metadata": {},
     "output_type": "execute_result"
    }
   ],
   "source": [
    "testY"
   ]
  },
  {
   "cell_type": "code",
   "execution_count": 14,
   "id": "0d410b57",
   "metadata": {},
   "outputs": [
    {
     "data": {
      "text/plain": [
       "RandomForestClassifier()"
      ]
     },
     "execution_count": 14,
     "metadata": {},
     "output_type": "execute_result"
    }
   ],
   "source": [
    "model = RandomForestClassifier(n_estimators=100)\n",
    "\n",
    "model.fit(trainX,trainY)"
   ]
  },
  {
   "cell_type": "code",
   "execution_count": 15,
   "id": "e7d62d95",
   "metadata": {},
   "outputs": [
    {
     "data": {
      "text/plain": [
       "array([0, 1, 0, 0, 0, 0, 0, 0, 0, 0, 0, 0, 0, 0, 0, 0, 1, 1, 1, 1, 0, 1,\n",
       "       1, 1, 1, 0, 0, 1, 1, 1], dtype=int64)"
      ]
     },
     "execution_count": 15,
     "metadata": {},
     "output_type": "execute_result"
    }
   ],
   "source": [
    "preds = model.predict(testX)\n",
    "preds"
   ]
  },
  {
   "cell_type": "code",
   "execution_count": 16,
   "id": "b4731e86",
   "metadata": {},
   "outputs": [
    {
     "data": {
      "text/plain": [
       "array([[14,  1],\n",
       "       [ 4, 11]], dtype=int64)"
      ]
     },
     "execution_count": 16,
     "metadata": {},
     "output_type": "execute_result"
    }
   ],
   "source": [
    "cnf = confusion_matrix(testY,preds)\n",
    "cnf"
   ]
  },
  {
   "cell_type": "code",
   "execution_count": 17,
   "id": "417468fb",
   "metadata": {},
   "outputs": [
    {
     "data": {
      "image/png": "[encoded data removed]",
      "text/plain": [
       "<Figure size 500x500 with 1 Axes>"
      ]
     },
     "metadata": {},
     "output_type": "display_data"
    }
   ],
   "source": [
    "plt.figure(figsize=(5,5))\n",
    "sns.heatmap(cnf , annot=True , cmap=\"coolwarm\" , cbar=False)\n",
    "plt.show()"
   ]
  },
  {
   "cell_type": "code",
   "execution_count": 18,
   "id": "e016abbb",
   "metadata": {},
   "outputs": [
    {
     "data": {
      "text/plain": [
       "0.8333333333333334"
      ]
     },
     "execution_count": 18,
     "metadata": {},
     "output_type": "execute_result"
    }
   ],
   "source": [
    "acc = metrics.accuracy_score(testY,preds)\n",
    "acc"
   ]
  },
  {
   "cell_type": "code",
   "execution_count": 19,
   "id": "af2baa00",
   "metadata": {},
   "outputs": [
    {
     "data": {
      "text/plain": [
       "array([ 6, 18, 22,  6,  1, 26,  6,  3, 15, 24, 15,  0,  2, 27,  3, 24,  3,\n",
       "       25,  3, 12,  1,  2, 11,  3, 14])"
      ]
     },
     "execution_count": 19,
     "metadata": {},
     "output_type": "execute_result"
    }
   ],
   "source": [
    "indexes = np.random.randint(0,30,25)\n",
    "indexes"
   ]
  },
  {
   "cell_type": "code",
   "execution_count": 20,
   "id": "f0c91a04",
   "metadata": {},
   "outputs": [
    {
     "data": {
      "text/plain": [
       "['healthy',\n",
       " 'parkinson',\n",
       " 'parkinson',\n",
       " 'healthy',\n",
       " 'parkinson',\n",
       " 'healthy',\n",
       " 'healthy',\n",
       " 'healthy',\n",
       " 'healthy',\n",
       " 'parkinson',\n",
       " 'healthy',\n",
       " 'healthy',\n",
       " 'healthy',\n",
       " 'parkinson',\n",
       " 'healthy',\n",
       " 'parkinson',\n",
       " 'healthy',\n",
       " 'healthy',\n",
       " 'healthy',\n",
       " 'healthy',\n",
       " 'parkinson',\n",
       " 'healthy',\n",
       " 'healthy',\n",
       " 'healthy',\n",
       " 'healthy']"
      ]
     },
     "execution_count": 20,
     "metadata": {},
     "output_type": "execute_result"
    }
   ],
   "source": [
    "labels = []\n",
    "\n",
    "for i in indexes:\n",
    "  pred = le.inverse_transform(preds)[i]\n",
    "  labels.append(pred)\n",
    "\n",
    "labels"
   ]
  },
  {
   "cell_type": "code",
   "execution_count": 21,
   "id": "4f9aa158",
   "metadata": {},
   "outputs": [],
   "source": [
    "results = []\n",
    "\n",
    "for i in range(25):\n",
    "  image = outputs[i]\n",
    "\n",
    "  if labels[i] == 'healthy':\n",
    "    color = (0,255,0)\n",
    "  else:\n",
    "    color = (0,0,255)\n",
    "\n",
    "  text = str(labels[i])\n",
    "\n",
    "  image = cv2.resize(image,(128,128))\n",
    "  cv2.putText(image,text,(3,20),cv2.FONT_HERSHEY_SIMPLEX,0.5,color,2)\n",
    "\n",
    "  results.append(image)"
   ]
  },
  {
   "cell_type": "code",
   "execution_count": 22,
   "id": "cd4aad4f",
   "metadata": {},
   "outputs": [
    {
     "data": {
      "text/plain": [
       "-1"
      ]
     },
     "execution_count": 22,
     "metadata": {},
     "output_type": "execute_result"
    }
   ],
   "source": [
    "montage = build_montages(results,(128,128),(5,5))[0]\n",
    "\n",
    "cv2.imshow(\"Output\",montage)\n",
    "cv2.waitKey(0)"
   ]
  },
  {
   "cell_type": "code",
   "execution_count": null,
   "id": "9b0be1e0",
   "metadata": {},
   "outputs": [],
   "source": []
  },
  {
   "cell_type": "markdown",
   "id": "c637f8d5",
   "metadata": {},
   "source": [
    "# Image preprocessing of wave drawings"
   ]
  },
  {
   "cell_type": "code",
   "execution_count": 23,
   "id": "519100e1",
   "metadata": {},
   "outputs": [],
   "source": [
    "wave_train_healthy = os.listdir('C:/Users/amirt/Desktop/Parkinson_Disease/dataset/wave/training/healthy/')\n",
    "wave_train_park = os.listdir('C:/Users/amirt/Desktop/Parkinson_Disease/dataset/wave/training/parkinson/')\n",
    "\n",
    "fp_wave_train_healthy = 'C:/Users/amirt/Desktop/Parkinson_Disease/dataset/wave/training/healthy/'\n",
    "fp_wave_train_park = 'C:/Users/amirt/Desktop/Parkinson_Disease/dataset/wave/training/parkinson/'\n",
    "\n",
    "wave_test_healthy = os.listdir('C:/Users/amirt/Desktop/Parkinson_Disease/dataset/wave/testing/healthy/')\n",
    "wave_test_park = os.listdir('C:/Users/amirt/Desktop/Parkinson_Disease/dataset/wave/testing/parkinson/')\n",
    "\n",
    "fp_wave_test_healthy = 'C:/Users/amirt/Desktop/Parkinson_Disease/dataset/wave/testing/healthy/'\n",
    "fp_wave_test_park = 'C:/Users/amirt/Desktop/Parkinson_Disease/dataset/wave/testing/parkinson/'"
   ]
  },
  {
   "cell_type": "code",
   "execution_count": 24,
   "id": "d7ab1421",
   "metadata": {},
   "outputs": [],
   "source": [
    "def quantify_image1(image1):\n",
    "  features1 = feature.hog(image1,orientations=9,\n",
    "                pixels_per_cell=(10,10),cells_per_block=(2,2),transform_sqrt=True,block_norm=\"L1\")\n",
    "\n",
    "  return features1"
   ]
  },
  {
   "cell_type": "code",
   "execution_count": 25,
   "id": "437a0f29",
   "metadata": {},
   "outputs": [],
   "source": [
    "trainX1 = []\n",
    "testX1 = []\n",
    "outputs1 = []\n",
    "trainY1 = []\n",
    "testY1 = []\n",
    "\n",
    "for i in wave_train_healthy:\n",
    "  image1 = cv2.imread(fp_wave_train_healthy+i)\n",
    "  image1 = cv2.cvtColor(image1 , cv2.COLOR_BGR2GRAY)\n",
    "  image1 = cv2.resize(image1 , (200,200))\n",
    "  image1 =cv2.threshold(image1, 0, 255,cv2.THRESH_BINARY_INV | cv2.THRESH_OTSU)[1]\n",
    "  features1 = quantify_image1(image1)\n",
    "  trainX1.append(features1)\n",
    "  trainY1.append('healthy')\n",
    "\n",
    "for i in wave_train_park:\n",
    "  image1 = cv2.imread(fp_wave_train_park+i)\n",
    "  image1 = cv2.cvtColor(image1 , cv2.COLOR_BGR2GRAY)\n",
    "  image1 = cv2.resize(image1 , (200,200))\n",
    "  image1 = cv2.threshold(image1 ,0,255,cv2.THRESH_BINARY_INV | cv2.THRESH_OTSU)[1]\n",
    "  features1 = quantify_image1(image1)\n",
    "  trainX1.append(features1)\n",
    "  trainY1.append('parkinson')\n",
    "\n",
    "for i in wave_test_healthy:\n",
    "  image1 = cv2.imread(fp_wave_test_healthy+i)\n",
    "  outputs1.append(image1)\n",
    "  image1 = cv2.cvtColor(image1 , cv2.COLOR_BGR2GRAY)\n",
    "  image1 = cv2.resize(image1 , (200,200))\n",
    "  image1 = cv2.threshold(image1 ,0,255,cv2.THRESH_BINARY_INV | cv2.THRESH_OTSU)[1]\n",
    "  features1 = quantify_image1(image1)\n",
    "  testX1.append(features1)\n",
    "  testY1.append('healthy')\n",
    "\n",
    "for i in wave_test_park:\n",
    "  image1 = cv2.imread(fp_wave_test_park+i)\n",
    "  outputs1.append(image1)\n",
    "  image1 = cv2.cvtColor(image1 , cv2.COLOR_BGR2GRAY)\n",
    "  image1 = cv2.resize(image1 , (200,200))\n",
    "  image1 = cv2.threshold(image1 ,0,255,cv2.THRESH_BINARY_INV | cv2.THRESH_OTSU)[1]\n",
    "  features1 = quantify_image1(image1)\n",
    "  testX1.append(features1)\n",
    "  testY1.append('parkinson')"
   ]
  },
  {
   "cell_type": "code",
   "execution_count": 26,
   "id": "d36d80f4",
   "metadata": {},
   "outputs": [
    {
     "data": {
      "text/plain": [
       "array([[0., 0., 0., ..., 0., 0., 0.],\n",
       "       [0., 0., 0., ..., 0., 0., 0.],\n",
       "       [0., 0., 0., ..., 0., 0., 0.],\n",
       "       ...,\n",
       "       [0., 0., 0., ..., 0., 0., 0.],\n",
       "       [0., 0., 0., ..., 0., 0., 0.],\n",
       "       [0., 0., 0., ..., 0., 0., 0.]])"
      ]
     },
     "execution_count": 26,
     "metadata": {},
     "output_type": "execute_result"
    }
   ],
   "source": [
    "trainX1 = np.array(trainX)\n",
    "testX1 = np.array(testX)\n",
    "trainY1 = np.array(trainY)\n",
    "testY1 = np.array(testY)\n",
    "\n",
    "trainX1"
   ]
  },
  {
   "cell_type": "code",
   "execution_count": 27,
   "id": "a87a0f84",
   "metadata": {},
   "outputs": [
    {
     "data": {
      "text/plain": [
       "array([[0., 0., 0., ..., 0., 0., 0.],\n",
       "       [0., 0., 0., ..., 0., 0., 0.],\n",
       "       [0., 0., 0., ..., 0., 0., 0.],\n",
       "       ...,\n",
       "       [0., 0., 0., ..., 0., 0., 0.],\n",
       "       [0., 0., 0., ..., 0., 0., 0.],\n",
       "       [0., 0., 0., ..., 0., 0., 0.]])"
      ]
     },
     "execution_count": 27,
     "metadata": {},
     "output_type": "execute_result"
    }
   ],
   "source": [
    "testX1"
   ]
  },
  {
   "cell_type": "code",
   "execution_count": 28,
   "id": "7715f305",
   "metadata": {},
   "outputs": [
    {
     "data": {
      "text/plain": [
       "array([0, 0, 0, 0, 0, 0, 0, 0, 0, 0, 0, 0, 0, 0, 0, 0, 0, 0, 0, 0, 0, 0,\n",
       "       0, 0, 0, 0, 0, 0, 0, 0, 0, 0, 0, 0, 0, 0, 1, 1, 1, 1, 1, 1, 1, 1,\n",
       "       1, 1, 1, 1, 1, 1, 1, 1, 1, 1, 1, 1, 1, 1, 1, 1, 1, 1, 1, 1, 1, 1,\n",
       "       1, 1, 1, 1, 1, 1], dtype=int64)"
      ]
     },
     "execution_count": 28,
     "metadata": {},
     "output_type": "execute_result"
    }
   ],
   "source": [
    "trainY1"
   ]
  },
  {
   "cell_type": "code",
   "execution_count": 29,
   "id": "5277baf7",
   "metadata": {},
   "outputs": [
    {
     "data": {
      "text/plain": [
       "array([0, 0, 0, 0, 0, 0, 0, 0, 0, 0, 0, 0, 0, 0, 0, 1, 1, 1, 1, 1, 1, 1,\n",
       "       1, 1, 1, 1, 1, 1, 1, 1])"
      ]
     },
     "execution_count": 29,
     "metadata": {},
     "output_type": "execute_result"
    }
   ],
   "source": [
    "testY1"
   ]
  },
  {
   "cell_type": "code",
   "execution_count": 30,
   "id": "cfcfdaa3",
   "metadata": {},
   "outputs": [],
   "source": [
    "le = LabelEncoder()\n",
    "trainY1 = le.fit_transform(trainY)\n",
    "testY1 = le.transform(testY)"
   ]
  },
  {
   "cell_type": "code",
   "execution_count": 31,
   "id": "c06fa3d2",
   "metadata": {},
   "outputs": [
    {
     "data": {
      "text/plain": [
       "array([0, 0, 0, 0, 0, 0, 0, 0, 0, 0, 0, 0, 0, 0, 0, 0, 0, 0, 0, 0, 0, 0,\n",
       "       0, 0, 0, 0, 0, 0, 0, 0, 0, 0, 0, 0, 0, 0, 1, 1, 1, 1, 1, 1, 1, 1,\n",
       "       1, 1, 1, 1, 1, 1, 1, 1, 1, 1, 1, 1, 1, 1, 1, 1, 1, 1, 1, 1, 1, 1,\n",
       "       1, 1, 1, 1, 1, 1], dtype=int64)"
      ]
     },
     "execution_count": 31,
     "metadata": {},
     "output_type": "execute_result"
    }
   ],
   "source": [
    "trainY1"
   ]
  },
  {
   "cell_type": "code",
   "execution_count": 32,
   "id": "954b4ae0",
   "metadata": {},
   "outputs": [
    {
     "data": {
      "text/plain": [
       "array([0, 0, 0, 0, 0, 0, 0, 0, 0, 0, 0, 0, 0, 0, 0, 1, 1, 1, 1, 1, 1, 1,\n",
       "       1, 1, 1, 1, 1, 1, 1, 1], dtype=int64)"
      ]
     },
     "execution_count": 32,
     "metadata": {},
     "output_type": "execute_result"
    }
   ],
   "source": [
    "testY1"
   ]
  },
  {
   "cell_type": "code",
   "execution_count": 33,
   "id": "6f1375f2",
   "metadata": {},
   "outputs": [
    {
     "data": {
      "text/plain": [
       "array([0, 0, 0, 0, 0, 0, 0, 0, 0, 0, 0, 0, 0, 0, 0, 0, 0, 0, 0, 0, 0, 0,\n",
       "       0, 0, 0, 0, 0, 0, 0, 0, 0, 0, 0, 0, 0, 0, 1, 1, 1, 1, 1, 1, 1, 1,\n",
       "       1, 1, 1, 1, 1, 1, 1, 1, 1, 1, 1, 1, 1, 1, 1, 1, 1, 1, 1, 1, 1, 1,\n",
       "       1, 1, 1, 1, 1, 1], dtype=int64)"
      ]
     },
     "execution_count": 33,
     "metadata": {},
     "output_type": "execute_result"
    }
   ],
   "source": [
    "le = LabelEncoder()\n",
    "\n",
    "trainY1 = le.fit_transform(trainY1)\n",
    "testY1 = le.transform(testY1)\n",
    "\n",
    "trainY1"
   ]
  },
  {
   "cell_type": "code",
   "execution_count": 34,
   "id": "00fd77c9",
   "metadata": {},
   "outputs": [
    {
     "data": {
      "text/plain": [
       "array([0, 0, 0, 0, 0, 0, 0, 0, 0, 0, 0, 0, 0, 0, 0, 1, 1, 1, 1, 1, 1, 1,\n",
       "       1, 1, 1, 1, 1, 1, 1, 1], dtype=int64)"
      ]
     },
     "execution_count": 34,
     "metadata": {},
     "output_type": "execute_result"
    }
   ],
   "source": [
    "testY1"
   ]
  },
  {
   "cell_type": "code",
   "execution_count": 35,
   "id": "d2e6ab48",
   "metadata": {},
   "outputs": [
    {
     "data": {
      "text/plain": [
       "KNeighborsClassifier()"
      ]
     },
     "execution_count": 35,
     "metadata": {},
     "output_type": "execute_result"
    }
   ],
   "source": [
    "from sklearn.neighbors import KNeighborsClassifier\n",
    "model=KNeighborsClassifier()\n",
    "\n",
    "model.fit(trainX1,trainY1)"
   ]
  },
  {
   "cell_type": "code",
   "execution_count": 36,
   "id": "1345638b",
   "metadata": {},
   "outputs": [
    {
     "name": "stderr",
     "output_type": "stream",
     "text": [
      "C:\\Users\\amirt\\anaconda3\\lib\\site-packages\\sklearn\\neighbors\\_classification.py:228: FutureWarning: Unlike other reduction functions (e.g. `skew`, `kurtosis`), the default behavior of `mode` typically preserves the axis it acts along. In SciPy 1.11.0, this behavior will change: the default value of `keepdims` will become False, the `axis` over which the statistic is taken will be eliminated, and the value None will no longer be accepted. Set `keepdims` to True or False to avoid this warning.\n",
      "  mode, _ = stats.mode(_y[neigh_ind, k], axis=1)\n"
     ]
    },
    {
     "data": {
      "text/plain": [
       "array([0, 1, 0, 0, 1, 1, 0, 0, 0, 0, 1, 0, 0, 0, 0, 0, 1, 1, 1, 1, 1, 1,\n",
       "       1, 1, 1, 1, 0, 1, 1, 1], dtype=int64)"
      ]
     },
     "execution_count": 36,
     "metadata": {},
     "output_type": "execute_result"
    }
   ],
   "source": [
    "preds = model.predict(testX1)\n",
    "preds"
   ]
  },
  {
   "cell_type": "code",
   "execution_count": 37,
   "id": "549e0dd7",
   "metadata": {},
   "outputs": [
    {
     "data": {
      "text/plain": [
       "array([[11,  4],\n",
       "       [ 2, 13]], dtype=int64)"
      ]
     },
     "execution_count": 37,
     "metadata": {},
     "output_type": "execute_result"
    }
   ],
   "source": [
    "cnf = confusion_matrix(testY1,preds)\n",
    "cnf"
   ]
  },
  {
   "cell_type": "code",
   "execution_count": 38,
   "id": "bf8661b9",
   "metadata": {},
   "outputs": [
    {
     "data": {
      "image/png": "[encoded data removed]",
      "text/plain": [
       "<Figure size 500x500 with 1 Axes>"
      ]
     },
     "metadata": {},
     "output_type": "display_data"
    }
   ],
   "source": [
    "plt.figure(figsize=(5,5))\n",
    "sns.heatmap(cnf , annot=True , cmap=\"coolwarm\" , cbar=False)\n",
    "plt.show()"
   ]
  },
  {
   "cell_type": "code",
   "execution_count": 39,
   "id": "3448f815",
   "metadata": {},
   "outputs": [
    {
     "data": {
      "text/plain": [
       "0.8"
      ]
     },
     "execution_count": 39,
     "metadata": {},
     "output_type": "execute_result"
    }
   ],
   "source": [
    "acc = metrics.accuracy_score(testY1,preds)\n",
    "acc"
   ]
  },
  {
   "cell_type": "code",
   "execution_count": 40,
   "id": "762a0913",
   "metadata": {},
   "outputs": [
    {
     "data": {
      "text/plain": [
       "array([ 8, 13,  8,  6,  0, 10, 27, 23, 12,  2,  0, 28, 29, 25, 12, 12, 28,\n",
       "        5, 29,  8,  3, 21, 22, 22, 18])"
      ]
     },
     "execution_count": 40,
     "metadata": {},
     "output_type": "execute_result"
    }
   ],
   "source": [
    "indexes = np.random.randint(0,30,25)\n",
    "indexes"
   ]
  },
  {
   "cell_type": "code",
   "execution_count": 41,
   "id": "7f90a165",
   "metadata": {},
   "outputs": [
    {
     "data": {
      "text/plain": [
       "[0, 0, 0, 0, 0, 1, 1, 1, 0, 0, 0, 1, 1, 1, 0, 0, 1, 1, 1, 0, 0, 1, 1, 1, 1]"
      ]
     },
     "execution_count": 41,
     "metadata": {},
     "output_type": "execute_result"
    }
   ],
   "source": [
    "labels = []\n",
    "\n",
    "for i in indexes:\n",
    "  pred = le.inverse_transform(preds)[i]\n",
    "  labels.append(pred)\n",
    "\n",
    "labels"
   ]
  },
  {
   "cell_type": "code",
   "execution_count": 42,
   "id": "64264fae",
   "metadata": {},
   "outputs": [],
   "source": [
    "results = []\n",
    "\n",
    "for i in range(25):\n",
    "  image = outputs1[i]\n",
    "\n",
    "  if labels[i] == 'healthy':\n",
    "    color = (0,255,0)\n",
    "  else:\n",
    "    color = (0,0,255)\n",
    "\n",
    "  text = str(labels[i])\n",
    "\n",
    "  image = cv2.resize(image,(128,128))\n",
    "  cv2.putText(image,text,(3,20),cv2.FONT_HERSHEY_SIMPLEX,0.5,color,2)\n",
    "\n",
    "  results.append(image)"
   ]
  },
  {
   "cell_type": "code",
   "execution_count": null,
   "id": "53efd068",
   "metadata": {},
   "outputs": [],
   "source": [
    "montage = build_montages(results,(128,128),(5,5))[0]\n",
    "cv2.imshow(\"Output\",montage)\n",
    "cv2.waitKey(0)"
   ]
  },
  {
   "cell_type": "markdown",
   "id": "0b4f15b8",
   "metadata": {},
   "source": [
    "# Save The Model"
   ]
  },
  {
   "cell_type": "code",
   "execution_count": null,
   "id": "1af8a6f8",
   "metadata": {},
   "outputs": [],
   "source": [
    "import pickle\n",
    "pickle.dump(model,open('parkinson.pkl','wb'))"
   ]
  }
 ],
 "metadata": {
  "kernelspec": {
   "display_name": "Python 3 (ipykernel)",
   "language": "python",
   "name": "python3"
  },
  "language_info": {
   "codemirror_mode": {
    "name": "ipython",
    "version": 3
   },
   "file_extension": ".py",
   "mimetype": "text/x-python",
   "name": "python",
   "nbconvert_exporter": "python",
   "pygments_lexer": "ipython3",
   "version": "3.9.13"
  }
 },
 "nbformat": 4,
 "nbformat_minor": 5
}
